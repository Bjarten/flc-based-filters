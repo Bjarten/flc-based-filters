{
 "cells": [
  {
   "cell_type": "code",
   "execution_count": 1,
   "metadata": {},
   "outputs": [
    {
     "data": {
      "application/javascript": [
       "MathJax.Hub.Config({TeX: { equationNumbers: { autoNumber: \"AMS\" } }});"
      ],
      "text/plain": [
       "<IPython.core.display.Javascript object>"
      ]
     },
     "metadata": {},
     "output_type": "display_data"
    }
   ],
   "source": [
    "%%javascript\n",
    "MathJax.Hub.Config({TeX: { equationNumbers: { autoNumber: \"AMS\" } }});"
   ]
  },
  {
   "cell_type": "markdown",
   "metadata": {},
   "source": [
    "# Fourier Series\n",
    "## Trigonometric Fourier Series\n",
    "Any arbitrary periodic function can be expressed as an infinite sum of  weighted sinusoids, this is called a *Fourier series*. The Fourier series can be expressed in three different forms, *exponential*, *amplitude-phase* and *trigonometric*, we will only use the latter.  The trigonometric Fourier series of a periodic function $f(t)$ is given by \n",
    "\n",
    "\\begin{equation} \\label{eq:TrigFourier}\n",
    "f(t) = a_0 + \\sum_{n=1}^{\\infty} \\left[a_n \\cos\\left(2\\pi n f_0 t \\right) + b_n \\sin\\left(2\\pi n f_0 t \\right)\\right] \n",
    "\\end{equation}\n",
    "\n",
    "The relationship between angular frequency, $\\omega$ $[rad/s]$,  and the linear frequency, $f$ $[Hz]$ is shown by the following equation\n",
    "\n",
    "\\begin{equation}\n",
    "\\omega=2\\pi f\n",
    "\\end{equation} \n",
    "\n",
    "Equation \\eqref{eq:TrigFourier} can therefor  also be written as\n",
    "\n",
    "$$\n",
    "f(t) = a_0 + \\sum_{n=1}^{\\infty} \\left[a_n \\cos\\left( n \\omega_0 t \\right) + b_n \\sin\\left(n \\omega_0 t \\right)\\right] \n",
    "$$\n",
    "\n",
    "The Fourier component $a_0$ is the dc component (the time average) of function $f(t)$. The Fourier components $a_n$ and $b_n$ are the amplitudes of the cosinusoids and sinusoids, respectively. \n",
    "The frequency $f_0$ is the **fundemental frequency** and the frequency of every trem is an integer multiple of $f_0$,  the resulting waves are called **harmonics**. So the first wave of the Fourier series, $n=1$, is the fundamental wave (1st harmonic), the next wave , $n=2$, is called the 2nd harmonic and has the frequency $2f_0$. The frequencies of the harmonics are strictly integer multiples of the fundamental frequency: $f_0,\\,2f_0,\\,3f_0,\\, \\ldots \\,nf_0$. \n",
    "\n",
    "Sources: [Fourier Series](https://link.springer.com/chapter/10.1007%2F978-90-481-9443-8_16) and [Trigonometric Fourier Series](https://onlinelibrary.wiley.com/doi/pdf/10.1002/9781118844373.app4)."
   ]
  },
  {
   "cell_type": "code",
   "execution_count": null,
   "metadata": {},
   "outputs": [],
   "source": []
  },
  {
   "cell_type": "code",
   "execution_count": null,
   "metadata": {},
   "outputs": [],
   "source": []
  }
 ],
 "metadata": {
  "kernelspec": {
   "display_name": "Python 3",
   "language": "python",
   "name": "python3"
  },
  "language_info": {
   "codemirror_mode": {
    "name": "ipython",
    "version": 3
   },
   "file_extension": ".py",
   "mimetype": "text/x-python",
   "name": "python",
   "nbconvert_exporter": "python",
   "pygments_lexer": "ipython3",
   "version": "3.5.5"
  }
 },
 "nbformat": 4,
 "nbformat_minor": 2
}
