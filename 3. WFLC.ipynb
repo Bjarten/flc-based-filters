{
 "cells": [
  {
   "cell_type": "code",
   "execution_count": 1,
   "metadata": {},
   "outputs": [
    {
     "data": {
      "application/javascript": [
       "MathJax.Hub.Config({TeX: { equationNumbers: { autoNumber: \"AMS\" } }});"
      ],
      "text/plain": [
       "<IPython.core.display.Javascript object>"
      ]
     },
     "metadata": {},
     "output_type": "display_data"
    }
   ],
   "source": [
    "%%javascript\n",
    "MathJax.Hub.Config({TeX: { equationNumbers: { autoNumber: \"AMS\" } }});"
   ]
  },
  {
   "cell_type": "markdown",
   "metadata": {},
   "source": [
    "# WFLC - Weighted Fourier Linear Combiner"
   ]
  },
  {
   "cell_type": "markdown",
   "metadata": {},
   "source": [
    "The WFLC is an extension of the FLC algorithm first presented in this [paper](http://ieeexplore.ieee.org/document/686791/), and like the FLC it models the tremor input as a dynamic truncated Fourier series. Where the FLC works on a preset fixed frequency, the WFLC can adapt the frequency of the model as well as its Fourier coefficients. The WFLC can, therefore, compensate for approximately periodic disturbance of unknown frequency and amplitude. The WFLC does not filter away the voluntary movement when used for estimating a tremor signal, and in the [paper](http://ieeexplore.ieee.org/document/686791/), a bandpass prefilter with passband 7-13 Hz was used before the WFLC  to filter away voluntary motion. The bandpass filter has a small phase lag, so the estimated frequency from the WFLC is sent to an FLC with no prefiltering to get a zero-phase tremor estimation.\n",
    "\n",
    "The equations for the WFLC filter are as follows\n",
    "\n",
    "\\begin{equation}\n",
    "y_k=\\sum_{r=0}^{n}a_{rk}\\sin(r\\omega_{0_k} k )+b_{rk}\\cos(r\\omega_{0_k}k)\n",
    "\\end{equation}\n",
    "\\begin{align}\n",
    "\\textbf{x}_k&=\n",
    "\\begin{bmatrix}\n",
    "[\\sin(\\omega_{0_k}k)&\\sin(2\\omega_{0_k}k)&\\cdots&\\sin(n\\omega_{0_k}k)]^T \\\\\n",
    "[\\cos(\\omega_{0_k}k)&\\cos(2\\omega_{0_k}k)&\\cdots&\\cos(n\\omega_{0_k}k)]^T\n",
    "\\end{bmatrix}\\\\\n",
    "\\textbf{w}_k&=\\begin{bmatrix}\n",
    "[a_{1k}&a_{2k}&\\cdots & a_{nk}]^T\\\\\n",
    "[b_{1k}&b_{2k}&\\cdots & b_{nk}]^T\n",
    "\\end{bmatrix} \\\\\n",
    "y_k&=\\textbf{w}_k^T\\textbf{x}_k\\\\\n",
    "\\varepsilon_k&=s_k-y_k=s_k-\\textbf{w}_k^T\\textbf{x}_k\\\\\n",
    "\\textbf{w}_{k+1}&=\\textbf{w}_k+2\\mu\\textbf{x}_k\\epsilon_k\n",
    "\\end{align}\n",
    "\n",
    "The fundamental angular frequency, $\\omega_{0_k}$, is updated using a modified LSM algorithm, with its own adaptive gain, $\\mu_0$\n",
    "\n",
    "\\begin{equation}\\label{eq:w0k}\n",
    "\\omega_{0_{k+1}}=\\omega_{0_k}+2\\mu_0\\varepsilon_k\\sum_{r=1}^{n}r\\left[a_{rk}\\cos(r\\omega_{0_k}k)-b_{rk}\\sin(r\\omega_{0_k}k) \\right] \n",
    "\\end{equation}\n",
    "\n",
    "Input amplitude and phase are estimated by the adaptive weight vector $\\textbf{w}_k$, as in FLC, while $\\omega_{0_k}$ estimates the input frequency.  If $\\mu_0=0$, the WFLC reduces to the FLC.\n",
    "\n",
    "![wflc](fig/wflc.png)"
   ]
  }
 ],
 "metadata": {
  "kernelspec": {
   "display_name": "Python 3",
   "language": "python",
   "name": "python3"
  },
  "language_info": {
   "codemirror_mode": {
    "name": "ipython",
    "version": 3
   },
   "file_extension": ".py",
   "mimetype": "text/x-python",
   "name": "python",
   "nbconvert_exporter": "python",
   "pygments_lexer": "ipython3",
   "version": "3.5.5"
  }
 },
 "nbformat": 4,
 "nbformat_minor": 2
}
