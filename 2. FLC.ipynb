{
 "cells": [
  {
   "cell_type": "code",
   "execution_count": 2,
   "metadata": {},
   "outputs": [
    {
     "data": {
      "application/javascript": [
       "MathJax.Hub.Config({TeX: { equationNumbers: { autoNumber: \"AMS\" } }});"
      ],
      "text/plain": [
       "<IPython.core.display.Javascript object>"
      ]
     },
     "metadata": {},
     "output_type": "display_data"
    }
   ],
   "source": [
    "%%javascript\n",
    "MathJax.Hub.Config({TeX: { equationNumbers: { autoNumber: \"AMS\" } }});"
   ]
  },
  {
   "cell_type": "markdown",
   "metadata": {},
   "source": [
    "#  FLC - Fourier Linear Combiner\n",
    "\n",
    "The [FLC](https://ieeexplore.ieee.org/document/18751) is designed for modeling and estimating a quasiperiodic signal of known frequency by adapting the amplitude and phase of a reference signal, in real-time with zero phase shift. The reference signal is generated artificially by a dynamic truncated Fourier series\n",
    "\\begin{equation}\\label{eq:truncatedFourierSeries}\n",
    "y_k=\\sum_{r=1}^{n}a_{rk}\\sin(r\\omega_0 k )+b_{rk}\\cos(r\\omega_0k)\n",
    "\\end{equation}\n",
    "\n",
    "where $k$ is the sampling instance, $y_k$ the is estimated signal, $n$ is the number of harmonics in the model, $\\mu$ is the adaptive gain parameter, and the Fourier coefficients $a_{rk}$ and $b_{rk}$ are the adaptive weights for their respective harmonic frequency $r\\omega_0$. Then $\\textbf{x}_k$ and $\\textbf{w}_k$ are defined\n",
    "\n",
    "\\begin{align}\n",
    "\\textbf{x}_k&=\n",
    "\\begin{bmatrix}\\label{eq:FLCxVector}\n",
    "[\\sin(\\omega_0k)&\\sin(2\\omega_0k)&\\cdots&\\sin(n\\omega_0k)]^T \\\\\n",
    "[\\cos(\\omega_0k)&\\cos(2\\omega_0k)&\\cdots&\\cos(n\\omega_0k)]^T\n",
    "\\end{bmatrix}\\\\\\label{eq:FLCfilterWeights}\n",
    "\\textbf{w}_k&=\\begin{bmatrix}\n",
    "[a_{1k}&a_{2k}&\\cdots & a_{nk}]^T\\\\\n",
    "[b_{1k}&b_{2k}&\\cdots & b_{nk}]^T\n",
    "\\end{bmatrix} \n",
    "\\end{align}\n",
    "\n",
    "Using \\eqref{eq:FLCxVector} and \\eqref{eq:FLCfilterWeights} the linear combiner can be written as \n",
    "\n",
    "\\begin{equation}\\label{key}\n",
    "y_k=\\textbf{w}_k^T\\textbf{x}_k\n",
    "\\end{equation}\n",
    "\n",
    "The error between the input signal $s_k$ and the estimated signal, $y_k$ is\n",
    "\n",
    "\\begin{align}\n",
    "\\varepsilon_k&=s_k-y_k=s_k-\\textbf{w}_k^T\\textbf{x}_k\n",
    "\\end{align}\n",
    "\n",
    "and the recursive LMS algorithm used to update the weights of $\\textbf{w}_k$\n",
    "\n",
    "\\begin{align}\n",
    "\\textbf{w}_{k+1}&=\\textbf{w}_k+2\\mu\\textbf{x}_k\\epsilon_k\n",
    "\\end{align}\n",
    "\n",
    "The FLC architecture can be seen in the following figure\n",
    "\n",
    "![flc](fig/flc.png)"
   ]
  }
 ],
 "metadata": {
  "kernelspec": {
   "display_name": "Python 3",
   "language": "python",
   "name": "python3"
  },
  "language_info": {
   "codemirror_mode": {
    "name": "ipython",
    "version": 3
   },
   "file_extension": ".py",
   "mimetype": "text/x-python",
   "name": "python",
   "nbconvert_exporter": "python",
   "pygments_lexer": "ipython3",
   "version": "3.5.5"
  }
 },
 "nbformat": 4,
 "nbformat_minor": 2
}
