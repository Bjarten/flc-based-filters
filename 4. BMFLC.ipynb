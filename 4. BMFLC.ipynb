{
 "cells": [
  {
   "cell_type": "code",
   "execution_count": 1,
   "metadata": {},
   "outputs": [
    {
     "data": {
      "application/javascript": [
       "MathJax.Hub.Config({TeX: { equationNumbers: { autoNumber: \"AMS\" } }});"
      ],
      "text/plain": [
       "<IPython.core.display.Javascript object>"
      ]
     },
     "metadata": {},
     "output_type": "display_data"
    }
   ],
   "source": [
    "%%javascript\n",
    "MathJax.Hub.Config({TeX: { equationNumbers: { autoNumber: \"AMS\" } }});"
   ]
  },
  {
   "cell_type": "markdown",
   "metadata": {},
   "source": [
    "# BMFLC - band-limited multiple-FLC\n",
    "\n",
    "The band-limited multiple-FLC (BMFLC) \\cite{BMFLC1,BMFLC2} is based on the concepts of the WFLC algorithm. The WFLC algorithm adapts to a single frequency present in the tremor signal, but for tremor signals modulated by two or more frequencies close in the spectral domain, the performance of the WFLC  will degrade. In such cases, the frequency adaption process of the WFLC will never stabilize, and accurate estimation will never be attained. To overcome this weakness, the BMFLC can track multiple frequency components in the incoming signal. Instead of having one variable frequency $w_{0_k}$  that adapts to the fundamental frequency of the tremor like with the WFLC, the BMFLC predefines a band of frequencies $[\\omega_1-\\omega_n]$, and then divide the frequency band into $n$ finite divisions, with distance $\\Delta w$  between them, as shown in the second figure. In the first figure we can see that $n$-FLCs are combined to form the BMFLC, this algorithm is now capable of estimating a signal with multiple dominant frequencies. In  this [paper](https://onlinelibrary.wiley.com/doi/abs/10.1002/rcs.340), to compare the efficiency of the WFLC and BMFLC, they used a modulating sinusoidal signal with two frequencies \\eqref{eq:BMFLC_testsignal}, simulating a tremor signal. When the two frequencies in the signal where equal, the WFLC slightly outperformed the BMFLC, but when the frequency gap increase, the WFLC fails to adapt to the modulated signal. The BMFLC is not affected by the frequency gap.  When setting the value of $\\Delta w$ to 0.1-0.5, estimation accuracy of 96-98\\% was obtained with the BMFLC.\n",
    "\n",
    "\\begin{equation}\n",
    "y_k=\\sum_{r=1}^{n}a_{rk}\\sin(\\omega_r k )+b_{rk}\\cos(\\omega_rk)\n",
    "\\end{equation}\n",
    "\n",
    "\\begin{align}\n",
    "\\textbf{x}_k&=\n",
    "\\begin{bmatrix}\n",
    "[\\sin(\\omega_1k)&\\sin(\\omega_2k)&\\cdots&\\sin(\\omega_nk)]^T \\\\\n",
    "[\\cos(\\omega_1k)&\\cos(\\omega_2k)&\\cdots&\\cos(\\omega_nk)]^T\n",
    "\\end{bmatrix}\\\\\n",
    "\\textbf{w}_k&=\\begin{bmatrix}\n",
    "[a_{1k}&a_{2k}&\\cdots & a_{nk}]^T\\\\\n",
    "[b_{1k}&b_{2k}&\\cdots & b_{nk}]^T\n",
    "\\end{bmatrix} \\\\\n",
    "y_k&=\\textbf{w}_k^T\\textbf{x}_k\\\\\n",
    "\\varepsilon_k&=s_k-y_k\\\\\n",
    "\\textbf{w}_{k+1}&=\\textbf{w}_k+2\\mu\\textbf{x}_k\\epsilon_k\n",
    "\\end{align}\n",
    "\n",
    "\\begin{equation}\\label{eq:BMFLC_testsignal}\n",
    "s_k=3.5\\sin(2\\pi f_1 t) + 2.5\\cos(2\\pi f_2 t)\n",
    "\\end{equation}\n",
    "\n",
    "![bmflc](fig/bmflc.png)\n",
    "\n",
    "![bmflc-band](fig/bmflc-band.png)"
   ]
  }
 ],
 "metadata": {
  "kernelspec": {
   "display_name": "Python 3",
   "language": "python",
   "name": "python3"
  },
  "language_info": {
   "codemirror_mode": {
    "name": "ipython",
    "version": 3
   },
   "file_extension": ".py",
   "mimetype": "text/x-python",
   "name": "python",
   "nbconvert_exporter": "python",
   "pygments_lexer": "ipython3",
   "version": "3.5.5"
  }
 },
 "nbformat": 4,
 "nbformat_minor": 2
}
